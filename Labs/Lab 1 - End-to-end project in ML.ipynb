{
  "cells": [
    {
      "cell_type": "markdown",
      "metadata": {
        "id": "IlHDpTfJ5-Xh"
      },
      "source": [
        "# Introduction to Jupyter, Python, Pandas and an end-to-end project in Machine Learning\n",
        "\n",
        "Welcome to the Topics in Machine Learning course. In this course we will introduce the basic concepts of machine learning. In particular we will look at tools and techniques that describe how to model a dataset with the purpose of prediction. An integrated part of that is how we approach data with the computer. We are choosing to do that with the tool you see in front of you: the Jupyter Notebook.\n",
        "\n",
        "Classical software engineering demands a large amount of design and testing. In data analysis, testing remains very important, but the design is often evolving. The design evolves through a process known as *exploratory data analysis*. You will learn some of the techniques of exploratory data analysis in this course.\n",
        "\n",
        "In this Notebook, we will work on an End-to-End project in Machine Learning where we will design a linear regression model to predict bike rentals. Before we go into the project, we will first introduce you to Jupyter, Python and Pandas."
      ]
    },
    {
      "cell_type": "markdown",
      "metadata": {
        "id": "qc1InMQ55-Xi"
      },
      "source": [
        "### Choice of Language\n",
        "\n",
        "In this module, we will be using Python for our programming language. A prerequisite of attending this course is that you have learnt at least one programming language in the past. It is not our objective to teach you python. At Level 4 and Masters we expect our students to be able pick up a language as they go. If you have not experienced python before it may be worth your while spending some time understanding the language. There are resources available for you to do this [here](https://docs.python.org/3/tutorial/index.html) that are based on the standard console. An introduction to the Jupyter notebook (formerly known as the IPython notebook) is available [here](https://ipython.readthedocs.io/en/stable/)."
      ]
    },
    {
      "cell_type": "markdown",
      "metadata": {
        "id": "klcAgzTw5-Xi"
      },
      "source": [
        "### Question 1\n",
        "\n",
        "Who invented python and why? What was the language designed to do? What is the origin of the name \"python\"? Is the language a compiled language? Is it an object orientated language?"
      ]
    },
    {
      "cell_type": "markdown",
      "metadata": {
        "id": "Hsa1uey95-Xj"
      },
      "source": [
        "*Provide your answer here*\n"
      ]
    },
    {
      "cell_type": "markdown",
      "metadata": {
        "id": "hKPd70GG5-Xj"
      },
      "source": [
        "## Choice of Environment\n",
        "\n",
        "We are working in the Jupyter notebook. It provides an environment for interacting with data in a natural way which is reproducible. We will be learning how to make use of the notebook throughout the course. The notebook allows us to combine code with descriptions, interactive visualizations, plots etc. In fact it allows us to do many of the things we need for data science. Notebooks can also be easily shared through the internet for ease of communication of ideas. The box this text is written in is a *markdown* box. Below we have a *code* box."
      ]
    },
    {
      "cell_type": "code",
      "execution_count": 23,
      "metadata": {
        "colab": {
          "base_uri": "https://localhost:8080/"
        },
        "id": "ToHuIsNT5-Xj",
        "outputId": "90cd573d-2fdd-4dfb-9103-2962d63ea44e"
      },
      "outputs": [
        {
          "output_type": "stream",
          "name": "stdout",
          "text": [
            "This is the Jupyter notebook\n",
            "It provides a platform for:\n",
            "Science Data Open\n",
            "Data Open Science\n",
            "Science Open Data\n"
          ]
        }
      ],
      "source": [
        "print(\"This is the Jupyter notebook\")\n",
        "print(\"It provides a platform for:\")\n",
        "words = ['Open', 'Data', 'Science']\n",
        "from random import shuffle\n",
        "for i in range(3):\n",
        "    shuffle(words)\n",
        "    print(' '.join(words))\n"
      ]
    },
    {
      "cell_type": "markdown",
      "metadata": {
        "id": "BqEOq55i5-Xj"
      },
      "source": [
        "Have a play with the code in the above box. Think about the following questions: what is the difference between `CTRL-enter` and `SHIFT-enter` in running the code? What does the command `shuffle` do? Can you find out by typing `shuffle?` in a code box?\n",
        "Once you've had a play with the code we can load in some data using the `pandas` library for data analysis."
      ]
    },
    {
      "cell_type": "markdown",
      "metadata": {
        "id": "QacNKAeS5-Xj"
      },
      "source": [
        "## Movie Body Count Example\n",
        "\n",
        "There is a crisis in the movie industry, deaths are occuring on a massive scale. In every feature film the body count is tolling up. But what is the cause of all these deaths? Let's try and investigate.\n",
        "\n",
        "For our first example of data science, we take inspiration from work by [researchers at NJIT](https://www.theswarmlab.com/blog/rvspython/r/2014/02/02/r-vs-python-round-2-2/). The researchers were comparing the qualities of Python with R. They put together a data base of results from the \"Internet Movie Database\" and the [Movie Body Count](http://www.moviebodycounts.com/) website which will allow us to do some preliminary investigation."
      ]
    },
    {
      "cell_type": "markdown",
      "metadata": {
        "id": "e6XwUubZ5-Xj"
      },
      "source": [
        "We will make use of data that has already been 'scraped' from the [Movie Body Count](http://www.moviebodycounts.com/) website. Code and the data is available at [a github repository](https://github.com/sjmgarnier/R-vs-Python/tree/master/Deadliest%20movies%20scrape/code). Git is a version control system and github is a website that hosts code that can be accessed through git. By sharing the code publicly through github, the authors are licensing the code publicly and allowing you to access and edit it. As well as accessing the code via github you can also [download the zip file](https://github.com/sjmgarnier/R-vs-Python/archive/master.zip). But let's do that in python"
      ]
    },
    {
      "cell_type": "code",
      "execution_count": 24,
      "metadata": {
        "colab": {
          "base_uri": "https://localhost:8080/"
        },
        "id": "Jd3kE7Le5-Xj",
        "outputId": "c1fa7c3d-cf35-4555-c94a-edee6e90c610"
      },
      "outputs": [
        {
          "output_type": "execute_result",
          "data": {
            "text/plain": [
              "('./master.zip', <http.client.HTTPMessage at 0x7d69ca88ec30>)"
            ]
          },
          "metadata": {},
          "execution_count": 24
        }
      ],
      "source": [
        "import urllib.request\n",
        "urllib.request.urlretrieve('https://github.com/sjmgarnier/R-vs-Python/archive/master.zip', './master.zip')"
      ]
    },
    {
      "cell_type": "markdown",
      "metadata": {
        "id": "V9vqs-Kc5-Xk"
      },
      "source": [
        "Once the data is downloaded we can unzip it into the same directory where we are running the lab class."
      ]
    },
    {
      "cell_type": "code",
      "execution_count": 25,
      "metadata": {
        "id": "_c8EVvow5-Xk"
      },
      "outputs": [],
      "source": [
        "import zipfile\n",
        "zip = zipfile.ZipFile('./master.zip', 'r')\n",
        "for name in zip.namelist():\n",
        "    zip.extract(name, '.')"
      ]
    },
    {
      "cell_type": "code",
      "execution_count": 26,
      "metadata": {
        "id": "ziWq8wbM5-Xk"
      },
      "outputs": [],
      "source": [
        "import pandas as pd # import the pandas library into a namespace called pd\n",
        "film_deaths = pd.read_csv('./R-vs-Python-master/Deadliest movies scrape/code/film-death-counts-Python.csv')"
      ]
    },
    {
      "cell_type": "markdown",
      "metadata": {
        "id": "ZHCUkT4j5-Xk"
      },
      "source": [
        "Once it is loaded in the data can be summarized using the `describe` method in pandas."
      ]
    },
    {
      "cell_type": "code",
      "execution_count": 27,
      "metadata": {
        "colab": {
          "base_uri": "https://localhost:8080/",
          "height": 300
        },
        "id": "YNVagt1w5-Xk",
        "outputId": "2fa3093d-d2b1-4798-9dc0-6437898bc51d"
      },
      "outputs": [
        {
          "output_type": "execute_result",
          "data": {
            "text/plain": [
              "              Year  Body_Count  Length_Minutes  IMDB_Rating\n",
              "count   421.000000  421.000000      421.000000   421.000000\n",
              "mean   1996.491686   53.287411      115.427553     6.882898\n",
              "std      10.913210   82.068035       21.652287     1.110788\n",
              "min    1949.000000    0.000000       79.000000     2.000000\n",
              "25%    1991.000000   11.000000      100.000000     6.200000\n",
              "50%    2000.000000   28.000000      111.000000     6.900000\n",
              "75%    2005.000000   61.000000      127.000000     7.700000\n",
              "max    2009.000000  836.000000      201.000000     9.300000"
            ],
            "text/html": [
              "\n",
              "  <div id=\"df-424b6ad9-b182-4387-abd1-fe33872613ed\" class=\"colab-df-container\">\n",
              "    <div>\n",
              "<style scoped>\n",
              "    .dataframe tbody tr th:only-of-type {\n",
              "        vertical-align: middle;\n",
              "    }\n",
              "\n",
              "    .dataframe tbody tr th {\n",
              "        vertical-align: top;\n",
              "    }\n",
              "\n",
              "    .dataframe thead th {\n",
              "        text-align: right;\n",
              "    }\n",
              "</style>\n",
              "<table border=\"1\" class=\"dataframe\">\n",
              "  <thead>\n",
              "    <tr style=\"text-align: right;\">\n",
              "      <th></th>\n",
              "      <th>Year</th>\n",
              "      <th>Body_Count</th>\n",
              "      <th>Length_Minutes</th>\n",
              "      <th>IMDB_Rating</th>\n",
              "    </tr>\n",
              "  </thead>\n",
              "  <tbody>\n",
              "    <tr>\n",
              "      <th>count</th>\n",
              "      <td>421.000000</td>\n",
              "      <td>421.000000</td>\n",
              "      <td>421.000000</td>\n",
              "      <td>421.000000</td>\n",
              "    </tr>\n",
              "    <tr>\n",
              "      <th>mean</th>\n",
              "      <td>1996.491686</td>\n",
              "      <td>53.287411</td>\n",
              "      <td>115.427553</td>\n",
              "      <td>6.882898</td>\n",
              "    </tr>\n",
              "    <tr>\n",
              "      <th>std</th>\n",
              "      <td>10.913210</td>\n",
              "      <td>82.068035</td>\n",
              "      <td>21.652287</td>\n",
              "      <td>1.110788</td>\n",
              "    </tr>\n",
              "    <tr>\n",
              "      <th>min</th>\n",
              "      <td>1949.000000</td>\n",
              "      <td>0.000000</td>\n",
              "      <td>79.000000</td>\n",
              "      <td>2.000000</td>\n",
              "    </tr>\n",
              "    <tr>\n",
              "      <th>25%</th>\n",
              "      <td>1991.000000</td>\n",
              "      <td>11.000000</td>\n",
              "      <td>100.000000</td>\n",
              "      <td>6.200000</td>\n",
              "    </tr>\n",
              "    <tr>\n",
              "      <th>50%</th>\n",
              "      <td>2000.000000</td>\n",
              "      <td>28.000000</td>\n",
              "      <td>111.000000</td>\n",
              "      <td>6.900000</td>\n",
              "    </tr>\n",
              "    <tr>\n",
              "      <th>75%</th>\n",
              "      <td>2005.000000</td>\n",
              "      <td>61.000000</td>\n",
              "      <td>127.000000</td>\n",
              "      <td>7.700000</td>\n",
              "    </tr>\n",
              "    <tr>\n",
              "      <th>max</th>\n",
              "      <td>2009.000000</td>\n",
              "      <td>836.000000</td>\n",
              "      <td>201.000000</td>\n",
              "      <td>9.300000</td>\n",
              "    </tr>\n",
              "  </tbody>\n",
              "</table>\n",
              "</div>\n",
              "    <div class=\"colab-df-buttons\">\n",
              "\n",
              "  <div class=\"colab-df-container\">\n",
              "    <button class=\"colab-df-convert\" onclick=\"convertToInteractive('df-424b6ad9-b182-4387-abd1-fe33872613ed')\"\n",
              "            title=\"Convert this dataframe to an interactive table.\"\n",
              "            style=\"display:none;\">\n",
              "\n",
              "  <svg xmlns=\"http://www.w3.org/2000/svg\" height=\"24px\" viewBox=\"0 -960 960 960\">\n",
              "    <path d=\"M120-120v-720h720v720H120Zm60-500h600v-160H180v160Zm220 220h160v-160H400v160Zm0 220h160v-160H400v160ZM180-400h160v-160H180v160Zm440 0h160v-160H620v160ZM180-180h160v-160H180v160Zm440 0h160v-160H620v160Z\"/>\n",
              "  </svg>\n",
              "    </button>\n",
              "\n",
              "  <style>\n",
              "    .colab-df-container {\n",
              "      display:flex;\n",
              "      gap: 12px;\n",
              "    }\n",
              "\n",
              "    .colab-df-convert {\n",
              "      background-color: #E8F0FE;\n",
              "      border: none;\n",
              "      border-radius: 50%;\n",
              "      cursor: pointer;\n",
              "      display: none;\n",
              "      fill: #1967D2;\n",
              "      height: 32px;\n",
              "      padding: 0 0 0 0;\n",
              "      width: 32px;\n",
              "    }\n",
              "\n",
              "    .colab-df-convert:hover {\n",
              "      background-color: #E2EBFA;\n",
              "      box-shadow: 0px 1px 2px rgba(60, 64, 67, 0.3), 0px 1px 3px 1px rgba(60, 64, 67, 0.15);\n",
              "      fill: #174EA6;\n",
              "    }\n",
              "\n",
              "    .colab-df-buttons div {\n",
              "      margin-bottom: 4px;\n",
              "    }\n",
              "\n",
              "    [theme=dark] .colab-df-convert {\n",
              "      background-color: #3B4455;\n",
              "      fill: #D2E3FC;\n",
              "    }\n",
              "\n",
              "    [theme=dark] .colab-df-convert:hover {\n",
              "      background-color: #434B5C;\n",
              "      box-shadow: 0px 1px 3px 1px rgba(0, 0, 0, 0.15);\n",
              "      filter: drop-shadow(0px 1px 2px rgba(0, 0, 0, 0.3));\n",
              "      fill: #FFFFFF;\n",
              "    }\n",
              "  </style>\n",
              "\n",
              "    <script>\n",
              "      const buttonEl =\n",
              "        document.querySelector('#df-424b6ad9-b182-4387-abd1-fe33872613ed button.colab-df-convert');\n",
              "      buttonEl.style.display =\n",
              "        google.colab.kernel.accessAllowed ? 'block' : 'none';\n",
              "\n",
              "      async function convertToInteractive(key) {\n",
              "        const element = document.querySelector('#df-424b6ad9-b182-4387-abd1-fe33872613ed');\n",
              "        const dataTable =\n",
              "          await google.colab.kernel.invokeFunction('convertToInteractive',\n",
              "                                                    [key], {});\n",
              "        if (!dataTable) return;\n",
              "\n",
              "        const docLinkHtml = 'Like what you see? Visit the ' +\n",
              "          '<a target=\"_blank\" href=https://colab.research.google.com/notebooks/data_table.ipynb>data table notebook</a>'\n",
              "          + ' to learn more about interactive tables.';\n",
              "        element.innerHTML = '';\n",
              "        dataTable['output_type'] = 'display_data';\n",
              "        await google.colab.output.renderOutput(dataTable, element);\n",
              "        const docLink = document.createElement('div');\n",
              "        docLink.innerHTML = docLinkHtml;\n",
              "        element.appendChild(docLink);\n",
              "      }\n",
              "    </script>\n",
              "  </div>\n",
              "\n",
              "\n",
              "    <div id=\"df-37d476fe-abb5-4de6-8371-c08824a9f546\">\n",
              "      <button class=\"colab-df-quickchart\" onclick=\"quickchart('df-37d476fe-abb5-4de6-8371-c08824a9f546')\"\n",
              "                title=\"Suggest charts\"\n",
              "                style=\"display:none;\">\n",
              "\n",
              "<svg xmlns=\"http://www.w3.org/2000/svg\" height=\"24px\"viewBox=\"0 0 24 24\"\n",
              "     width=\"24px\">\n",
              "    <g>\n",
              "        <path d=\"M19 3H5c-1.1 0-2 .9-2 2v14c0 1.1.9 2 2 2h14c1.1 0 2-.9 2-2V5c0-1.1-.9-2-2-2zM9 17H7v-7h2v7zm4 0h-2V7h2v10zm4 0h-2v-4h2v4z\"/>\n",
              "    </g>\n",
              "</svg>\n",
              "      </button>\n",
              "\n",
              "<style>\n",
              "  .colab-df-quickchart {\n",
              "      --bg-color: #E8F0FE;\n",
              "      --fill-color: #1967D2;\n",
              "      --hover-bg-color: #E2EBFA;\n",
              "      --hover-fill-color: #174EA6;\n",
              "      --disabled-fill-color: #AAA;\n",
              "      --disabled-bg-color: #DDD;\n",
              "  }\n",
              "\n",
              "  [theme=dark] .colab-df-quickchart {\n",
              "      --bg-color: #3B4455;\n",
              "      --fill-color: #D2E3FC;\n",
              "      --hover-bg-color: #434B5C;\n",
              "      --hover-fill-color: #FFFFFF;\n",
              "      --disabled-bg-color: #3B4455;\n",
              "      --disabled-fill-color: #666;\n",
              "  }\n",
              "\n",
              "  .colab-df-quickchart {\n",
              "    background-color: var(--bg-color);\n",
              "    border: none;\n",
              "    border-radius: 50%;\n",
              "    cursor: pointer;\n",
              "    display: none;\n",
              "    fill: var(--fill-color);\n",
              "    height: 32px;\n",
              "    padding: 0;\n",
              "    width: 32px;\n",
              "  }\n",
              "\n",
              "  .colab-df-quickchart:hover {\n",
              "    background-color: var(--hover-bg-color);\n",
              "    box-shadow: 0 1px 2px rgba(60, 64, 67, 0.3), 0 1px 3px 1px rgba(60, 64, 67, 0.15);\n",
              "    fill: var(--button-hover-fill-color);\n",
              "  }\n",
              "\n",
              "  .colab-df-quickchart-complete:disabled,\n",
              "  .colab-df-quickchart-complete:disabled:hover {\n",
              "    background-color: var(--disabled-bg-color);\n",
              "    fill: var(--disabled-fill-color);\n",
              "    box-shadow: none;\n",
              "  }\n",
              "\n",
              "  .colab-df-spinner {\n",
              "    border: 2px solid var(--fill-color);\n",
              "    border-color: transparent;\n",
              "    border-bottom-color: var(--fill-color);\n",
              "    animation:\n",
              "      spin 1s steps(1) infinite;\n",
              "  }\n",
              "\n",
              "  @keyframes spin {\n",
              "    0% {\n",
              "      border-color: transparent;\n",
              "      border-bottom-color: var(--fill-color);\n",
              "      border-left-color: var(--fill-color);\n",
              "    }\n",
              "    20% {\n",
              "      border-color: transparent;\n",
              "      border-left-color: var(--fill-color);\n",
              "      border-top-color: var(--fill-color);\n",
              "    }\n",
              "    30% {\n",
              "      border-color: transparent;\n",
              "      border-left-color: var(--fill-color);\n",
              "      border-top-color: var(--fill-color);\n",
              "      border-right-color: var(--fill-color);\n",
              "    }\n",
              "    40% {\n",
              "      border-color: transparent;\n",
              "      border-right-color: var(--fill-color);\n",
              "      border-top-color: var(--fill-color);\n",
              "    }\n",
              "    60% {\n",
              "      border-color: transparent;\n",
              "      border-right-color: var(--fill-color);\n",
              "    }\n",
              "    80% {\n",
              "      border-color: transparent;\n",
              "      border-right-color: var(--fill-color);\n",
              "      border-bottom-color: var(--fill-color);\n",
              "    }\n",
              "    90% {\n",
              "      border-color: transparent;\n",
              "      border-bottom-color: var(--fill-color);\n",
              "    }\n",
              "  }\n",
              "</style>\n",
              "\n",
              "      <script>\n",
              "        async function quickchart(key) {\n",
              "          const quickchartButtonEl =\n",
              "            document.querySelector('#' + key + ' button');\n",
              "          quickchartButtonEl.disabled = true;  // To prevent multiple clicks.\n",
              "          quickchartButtonEl.classList.add('colab-df-spinner');\n",
              "          try {\n",
              "            const charts = await google.colab.kernel.invokeFunction(\n",
              "                'suggestCharts', [key], {});\n",
              "          } catch (error) {\n",
              "            console.error('Error during call to suggestCharts:', error);\n",
              "          }\n",
              "          quickchartButtonEl.classList.remove('colab-df-spinner');\n",
              "          quickchartButtonEl.classList.add('colab-df-quickchart-complete');\n",
              "        }\n",
              "        (() => {\n",
              "          let quickchartButtonEl =\n",
              "            document.querySelector('#df-37d476fe-abb5-4de6-8371-c08824a9f546 button');\n",
              "          quickchartButtonEl.style.display =\n",
              "            google.colab.kernel.accessAllowed ? 'block' : 'none';\n",
              "        })();\n",
              "      </script>\n",
              "    </div>\n",
              "\n",
              "    </div>\n",
              "  </div>\n"
            ],
            "application/vnd.google.colaboratory.intrinsic+json": {
              "type": "dataframe",
              "summary": "{\n  \"name\": \"film_deaths\",\n  \"rows\": 8,\n  \"fields\": [\n    {\n      \"column\": \"Year\",\n      \"properties\": {\n        \"dtype\": \"number\",\n        \"std\": 829.5121867552609,\n        \"min\": 10.913209656476903,\n        \"max\": 2009.0,\n        \"num_unique_values\": 8,\n        \"samples\": [\n          1996.4916864608076,\n          2000.0,\n          421.0\n        ],\n        \"semantic_type\": \"\",\n        \"description\": \"\"\n      }\n    },\n    {\n      \"column\": \"Body_Count\",\n      \"properties\": {\n        \"dtype\": \"number\",\n        \"std\": 295.67045200518663,\n        \"min\": 0.0,\n        \"max\": 836.0,\n        \"num_unique_values\": 8,\n        \"samples\": [\n          53.287410926365794,\n          28.0,\n          421.0\n        ],\n        \"semantic_type\": \"\",\n        \"description\": \"\"\n      }\n    },\n    {\n      \"column\": \"Length_Minutes\",\n      \"properties\": {\n        \"dtype\": \"number\",\n        \"std\": 121.43773700550751,\n        \"min\": 21.652286824130123,\n        \"max\": 421.0,\n        \"num_unique_values\": 8,\n        \"samples\": [\n          115.42755344418052,\n          111.0,\n          421.0\n        ],\n        \"semantic_type\": \"\",\n        \"description\": \"\"\n      }\n    },\n    {\n      \"column\": \"IMDB_Rating\",\n      \"properties\": {\n        \"dtype\": \"number\",\n        \"std\": 146.84759580484652,\n        \"min\": 1.1107878634727146,\n        \"max\": 421.0,\n        \"num_unique_values\": 8,\n        \"samples\": [\n          6.882897862232778,\n          6.9,\n          421.0\n        ],\n        \"semantic_type\": \"\",\n        \"description\": \"\"\n      }\n    }\n  ]\n}"
            }
          },
          "metadata": {},
          "execution_count": 27
        }
      ],
      "source": [
        "film_deaths.describe()"
      ]
    },
    {
      "cell_type": "markdown",
      "metadata": {
        "id": "we8Na8_R5-Xk"
      },
      "source": [
        "In jupyter and jupyter notebook it is possible to see a list of all possible functions and attributes by typing the name of the object followed by .<Tab> for example in the above case if we type film_deaths.<Tab> it show the columns available (these are attributes in pandas dataframes) such as Body_Count, and also functions, such as .describe().\n",
        "\n",
        "For functions we can also see the documentation about the function by following the name with a question mark. This will open a box with documentation at the bottom which can be closed with the x button."
      ]
    },
    {
      "cell_type": "code",
      "execution_count": null,
      "metadata": {
        "id": "px312bGY5-Xk"
      },
      "outputs": [],
      "source": [
        "film_deaths.describe?"
      ]
    },
    {
      "cell_type": "code",
      "execution_count": null,
      "metadata": {
        "id": "viWgt5l-5-Xk"
      },
      "outputs": [],
      "source": [
        "print(film_deaths['Year'])"
      ]
    },
    {
      "cell_type": "markdown",
      "metadata": {
        "id": "rLe5Jer05-Xk"
      },
      "source": [
        "This shows the number of deaths per film across the years. We can plot the data as follows."
      ]
    },
    {
      "cell_type": "code",
      "execution_count": null,
      "metadata": {
        "id": "PYslNrtb5-Xk"
      },
      "outputs": [],
      "source": [
        "# this ensures the plot appears in the web browser\n",
        "%matplotlib inline\n",
        "import pylab as plt # this imports the plotting library in python\n",
        "\n",
        "plt.plot(film_deaths['Year'], film_deaths['Body_Count'], 'rx')"
      ]
    },
    {
      "cell_type": "markdown",
      "metadata": {
        "id": "XcWb3XKM5-Xk"
      },
      "source": [
        "You may be curious what the arguments we give to plt.plot are for, now is the perfect time to look at the documentation"
      ]
    },
    {
      "cell_type": "code",
      "execution_count": null,
      "metadata": {
        "id": "-OythHKy5-Xk"
      },
      "outputs": [],
      "source": [
        "plt.plot?"
      ]
    },
    {
      "cell_type": "markdown",
      "metadata": {
        "id": "Gj-acPUU5-Xk"
      },
      "source": [
        "We immediately note that some films have a lot of deaths, which prevent us seeing the detail of the main body of films. First lets identify the films with the most deaths."
      ]
    },
    {
      "cell_type": "code",
      "execution_count": null,
      "metadata": {
        "id": "5GQgTMVP5-Xk"
      },
      "outputs": [],
      "source": [
        "film_deaths[film_deaths['Body_Count']>200]"
      ]
    },
    {
      "cell_type": "markdown",
      "metadata": {
        "id": "j5-C2Sct5-Xk"
      },
      "source": [
        "Here we are using the command `film_deaths['Body_Count']>200` to index the films in the pandas data frame which have over 200 deaths. To sort them in order we can also use the `sort` command. The result of this command on its own is a data series of `True` and `False` values. However, when it is passed to the `film_deaths` data frame it returns a new data frame which contains only those values for which the data series is `True`. We can also sort the result. To sort the result by the values in the `Body_Count` column in *descending* order we use the following command."
      ]
    },
    {
      "cell_type": "code",
      "execution_count": null,
      "metadata": {
        "id": "dw5fH-3x5-Xk"
      },
      "outputs": [],
      "source": [
        "film_deaths[film_deaths['Body_Count']>200].sort_values('Body_Count', ascending=False)"
      ]
    },
    {
      "cell_type": "markdown",
      "metadata": {
        "id": "tl3_oM6D5-Xk"
      },
      "source": [
        "We now see that the 'Lord of the Rings' is a large outlier with a very large number of kills. We can try and determine how much of an outlier by histograming the data."
      ]
    },
    {
      "cell_type": "markdown",
      "metadata": {
        "id": "lLpOpKgC5-Xk"
      },
      "source": [
        "### Plotting the Data"
      ]
    },
    {
      "cell_type": "code",
      "execution_count": null,
      "metadata": {
        "id": "MMm__A0Z5-Xk"
      },
      "outputs": [],
      "source": [
        "film_deaths['Body_Count'].hist(bins=20) # histogram the data with 20 bins.\n",
        "plt.title('Histogram of Film Kill Count')"
      ]
    },
    {
      "cell_type": "markdown",
      "metadata": {
        "id": "OOZXSCzL5-Xk"
      },
      "source": [
        "### Question 2\n",
        "Read on the internet about the following python libraries: `numpy`, `matplotlib`, `scipy` and `pandas`. What functionality does each provide in python. What is the `pylab` library and how does it relate to the other libraries?"
      ]
    },
    {
      "cell_type": "markdown",
      "metadata": {
        "id": "CS1EWxln5-Xk"
      },
      "source": [
        "*Provide your answer here*\n"
      ]
    },
    {
      "cell_type": "markdown",
      "metadata": {
        "id": "fIhs-lvV5-Xk"
      },
      "source": [
        "We could try and remove these outliers, but another approach would be to plot the logarithm of the counts against the year."
      ]
    },
    {
      "cell_type": "code",
      "execution_count": null,
      "metadata": {
        "id": "Lzq-Cwhp5-Xk"
      },
      "outputs": [],
      "source": [
        "plt.plot(film_deaths['Year'], film_deaths['Body_Count'], 'rx')\n",
        "ax = plt.gca() # obtain a handle to the current axis\n",
        "ax.set_yscale('log') # use a logarithmic death scale\n",
        "# give the plot some titles and labels\n",
        "plt.title('Film Deaths against Year')\n",
        "plt.ylabel('deaths')\n",
        "plt.xlabel('year')"
      ]
    },
    {
      "cell_type": "markdown",
      "metadata": {
        "id": "9Rsgs8re5-Xk"
      },
      "source": [
        "Note a few things. We are interacting with our data. In particular, we are replotting the data according to what we have learned so far. We are using the programming language as a *scripting* language to give the computer one command or another, and then the next command we enter is dependent on the result of the previous. This is a very different paradigm to classical software engineering. In classical software engineering we normally write many lines of code (entire object classes or functions) before compiling the code and running it. Our approach is more similar to the approach we take whilst debugging. Historically, researchers interacted with data using a *console*. A command line window which allowed command entry. The notebook format we are using is slightly different. Each of the code entry boxes acts like a separate console window. We can move up and down the notebook and run each part in a different order. The *state* of the program is always as we left it after running the previous part.  "
      ]
    },
    {
      "cell_type": "markdown",
      "metadata": {
        "id": "ThYm3Uno5-Xk"
      },
      "source": [
        "### Question 3\n",
        "\n",
        "What is jupyter and why was it invented? Give some examples of functionality it gives over standard python. What is the jupyter project? Name two languages involved in the Jupyter project other than python."
      ]
    },
    {
      "cell_type": "markdown",
      "metadata": {
        "id": "Z3do4w7L5-Xk"
      },
      "source": [
        "*Provide your answer here*\n"
      ]
    },
    {
      "cell_type": "markdown",
      "metadata": {
        "id": "p4L-D8pp5-Xl"
      },
      "source": [
        "# An end-to-end project in ML: using machine learning to predict bike rentals\n",
        "\n",
        "We will know move on and go in detail through an end-to-end ML project. Our dataset comes from a popular machine learning repository that hosts open source datasets for educational and research purposes, the [UCI Machine Learning Repository](https://archive.ics.uci.edu/ml/index.php). We are going to follow several of the steps in the ML project checklist and use several utilities and models in [scikit-learn](https://scikit-learn.org/stable/) for predicting bike rentals. The description of the dataset can be found [here](https://archive.ics.uci.edu/ml/datasets/Seoul+Bike+Sharing+Demand#).\n",
        "\n",
        "### Get the data"
      ]
    },
    {
      "cell_type": "code",
      "execution_count": null,
      "metadata": {
        "id": "uSMVQ2V15-Xl"
      },
      "outputs": [],
      "source": [
        "import urllib.request\n",
        "urllib.request.urlretrieve('https://archive.ics.uci.edu/ml/machine-learning-databases/00560/SeoulBikeData.csv', './SeoulBikeData.csv')"
      ]
    },
    {
      "cell_type": "code",
      "execution_count": null,
      "metadata": {
        "id": "r0gR-1rO5-Xl"
      },
      "outputs": [],
      "source": [
        "import pandas as pd\n",
        "bike_sharing_data = pd.read_csv('SeoulBikeData.csv', encoding= 'unicode_escape')"
      ]
    },
    {
      "cell_type": "markdown",
      "metadata": {
        "id": "rO8OfGl95-Xn"
      },
      "source": [
        "We can get a description of the data"
      ]
    },
    {
      "cell_type": "code",
      "execution_count": null,
      "metadata": {
        "id": "CkJrP2FP5-Xn"
      },
      "outputs": [],
      "source": [
        "bike_sharing_data.describe()"
      ]
    },
    {
      "cell_type": "markdown",
      "metadata": {
        "id": "I--keQzW5-Xn"
      },
      "source": [
        "We can see some of the rows in the dataset"
      ]
    },
    {
      "cell_type": "code",
      "execution_count": null,
      "metadata": {
        "id": "D0pHbQAX5-Xn"
      },
      "outputs": [],
      "source": [
        "bike_sharing_data.sample(5)"
      ]
    },
    {
      "cell_type": "markdown",
      "metadata": {
        "id": "dh6pRoOU5-Xn"
      },
      "source": [
        "The target variable $y$ corresponds to the Rented Bike Count variable of the second column. The following columns correspond to the variables in the feature vector $\\mathbf{x}$, *e.g.*, *Hour* is $x_1$ up until *Functioning Day* which is $x_D$. The original dataset also has a date column that we are not going to use in this notebook."
      ]
    },
    {
      "cell_type": "code",
      "execution_count": null,
      "metadata": {
        "id": "mJJs81ax5-Xn"
      },
      "outputs": [],
      "source": [
        "bike_sharing_data = bike_sharing_data.drop('Date', axis=1)"
      ]
    },
    {
      "cell_type": "markdown",
      "metadata": {
        "id": "byUVmrQ95-Xn"
      },
      "source": [
        "We follow some of the steps in the ML checklist we used in the lecture, including data exploration, data preprocessing, and fine-tuning the ML model. It is important to remember that the testing data that we use for assessing the generalisation performance has to be set aside once we get the data. Also, any data preprocessing that you do has to be done only on the training data and several quantities need to be saved for the test stage. Separating the dataset into training and test before any preprocessing has happened, help us to recreate the real world scenario where we will deploy our system and for which the data will come without any preprocessing.\n",
        "\n",
        "We use scikit-learn to separate the data into training and test sets. Let us first look at how many instances we have in the dataset"
      ]
    },
    {
      "cell_type": "code",
      "execution_count": null,
      "metadata": {
        "id": "cfv6nlvq5-Xn"
      },
      "outputs": [],
      "source": [
        "bike_sharing_data.info()"
      ]
    },
    {
      "cell_type": "markdown",
      "metadata": {
        "id": "cE6AQ57M5-Xn"
      },
      "source": [
        "Several algorithms that we will use assume the inputs to be type 'float' instead of 'int', so we transform those variables in the dataset from int64 to float64."
      ]
    },
    {
      "cell_type": "code",
      "execution_count": null,
      "metadata": {
        "id": "mC5VOHaV5-Xn"
      },
      "outputs": [],
      "source": [
        "for col in ['Rented Bike Count', 'Hour', 'Humidity(%)', 'Visibility (10m)']:\n",
        "    bike_sharing_data[col] = bike_sharing_data[col].astype('float64')"
      ]
    },
    {
      "cell_type": "code",
      "execution_count": null,
      "metadata": {
        "id": "v94CEPBU5-Xn"
      },
      "outputs": [],
      "source": [
        "bike_sharing_data.info()"
      ]
    },
    {
      "cell_type": "markdown",
      "metadata": {
        "id": "6XhLioC35-Xn"
      },
      "source": [
        "The dataset has a few thousand observations. We will use 85% of the data for training and 15% for testing. The `train_test_split` function in scikit-learn allows to easily get these partitions."
      ]
    },
    {
      "cell_type": "code",
      "execution_count": null,
      "metadata": {
        "id": "KdKOfbA65-Xn"
      },
      "outputs": [],
      "source": [
        "from sklearn.model_selection import train_test_split\n",
        "bs_train_set, bs_test_set = train_test_split(bike_sharing_data, test_size=0.15, random_state=42)"
      ]
    },
    {
      "cell_type": "markdown",
      "metadata": {
        "id": "M56DlO2s5-Xn"
      },
      "source": [
        "The train and test sets are chosen randomly from all the available data. By specifying a value for `random_state`, we are making sure that every time we run this instruction, the train and test set will have the exact same instances. `random_state` \"controls the shuffling applied to the data before applying the split\".\n",
        "\n",
        "### Explore the data\n",
        "\n",
        "There are different tools we can use to explore the dataset.\n",
        "\n",
        "#### Histograms\n",
        "\n",
        "Let us first look at histograms for each of the continuous attributes."
      ]
    },
    {
      "cell_type": "code",
      "execution_count": null,
      "metadata": {
        "id": "78AAERyJ5-Xn"
      },
      "outputs": [],
      "source": [
        "%matplotlib inline\n",
        "import matplotlib.pyplot as plt\n",
        "bs_train_set.hist(bins=50, figsize=(20,15))\n",
        "plt.show()"
      ]
    },
    {
      "cell_type": "markdown",
      "metadata": {
        "id": "KJVwVPpl5-Xn"
      },
      "source": [
        "Some observations from the histograms are:\n",
        "\n",
        "1. The values for the variables Rainfall, Snowfall, Solar Radition and Visibility are concentrated at one of the ends of the plots. This is an indication that several instances might contain outliers. One can consider removing these outliers from the data or binning the data into a few discrete values.\n",
        "\n",
        "2. Both the Rented Bike Count and the Wind Speed are [skewed to the right](https://en.wikipedia.org/wiki/Skewness), this is, the mean of the distribution is to the right of the median. Some ML algorithms find it harder to detect patterns for this type of distribution. One might consider transforming these features using $\\log(x)$ or $\\sqrt{x}$ so that they look more like a bell-shaped distribution.\n",
        "\n",
        "### Question 4\n",
        "\n",
        "1. Compute the mean and the median for the variables Rented Bike Count and Wind Speed and verify that the mean is to the right of the median.\n",
        "\n",
        "2. How would the histograms for Rented Bike Count and the Wind Speed look like if we transform the values using $\\sqrt{x}$?\n",
        "\n",
        "3. Would it be possible to use $\\log{x}$ instead of $\\sqrt{x}$? If not, what would you do to the variable to be able to use it?"
      ]
    },
    {
      "cell_type": "code",
      "execution_count": null,
      "metadata": {
        "id": "X5Yk50be5-Xn"
      },
      "outputs": [],
      "source": [
        "# Provide your answer here\n"
      ]
    },
    {
      "cell_type": "markdown",
      "metadata": {
        "id": "fsZFB1GX5-Xn"
      },
      "source": [
        "#### Scatter plots\n",
        "\n",
        "The Scatter plot is a tool we can use to explore dependencies between the different variables. It contains plots of each variable against each other in the dataset. If there are many variables in the feature vector, including all scatter plots might not be convenient to visualise. Let us look at the scatter plot for the target variable and four of the attributes."
      ]
    },
    {
      "cell_type": "code",
      "execution_count": null,
      "metadata": {
        "scrolled": false,
        "id": "K5O9g-pU5-Xo"
      },
      "outputs": [],
      "source": [
        "from pandas.plotting import scatter_matrix\n",
        "attributes = ['Rented Bike Count', 'Hour', 'Temperature(°C)', 'Humidity(%)', 'Wind speed (m/s)']\n",
        "figscat = scatter_matrix(bs_train_set[attributes], figsize=(20, 15))"
      ]
    },
    {
      "cell_type": "markdown",
      "metadata": {
        "id": "W6E0Kr8a5-Xo"
      },
      "source": [
        "The variables Hour and Temperature seem well correlatd with Rented Bike Count. The relationship between Humidity and Wind Speed with Rented Bike Count looks less clear though.\n",
        "\n",
        "### Correlation coefficients\n",
        "\n",
        "Additionally, we can study the correlation coefficient between the numerical attributes and the Rented Bike Count."
      ]
    },
    {
      "cell_type": "code",
      "execution_count": null,
      "metadata": {
        "id": "OaBfba6y5-Xo"
      },
      "outputs": [],
      "source": [
        "corr_matrix = bs_train_set.corr(numeric_only=True)\n",
        "corr_matrix['Rented Bike Count'].sort_values(ascending=False)"
      ]
    },
    {
      "cell_type": "markdown",
      "metadata": {
        "id": "0xZ_V0c05-Xo"
      },
      "source": [
        "As we suspected by having looked at the scatter plots, Temperature and Hour are strongly correlated with the target value.\n",
        "\n",
        "### Question 5\n",
        "\n",
        "What would the correlation coefficients be if the variables Rented Bike Count and Wind Speed are transformed using $\\sqrt{x}$?"
      ]
    },
    {
      "cell_type": "code",
      "execution_count": null,
      "metadata": {
        "id": "7pS2yxue5-Xo"
      },
      "outputs": [],
      "source": [
        "# Provide your answer here"
      ]
    },
    {
      "cell_type": "markdown",
      "metadata": {
        "id": "uXNJVUVZ5-Xo"
      },
      "source": [
        "### Prepare the data\n",
        "\n",
        "We will now prepare the data so that it is suitable for the machine learning models. We consider the following processes for the dataset in this notebook: using one-hot-encoding for the categorical attributes and feature scaling for the numerical attributes. scikit-learn provides utilities for these tasks:\n",
        "\n",
        "1. [OneHotEncoder()](https://scikit-learn.org/stable/modules/generated/sklearn.preprocessing.OneHotEncoder.html?highlight=onehotencoder#sklearn.preprocessing.OneHotEncoder) allows to transform a categorical variable to a one-hot encoding representation.\n",
        "\n",
        "2. [StandardScaler()](https://scikit-learn.org/stable/modules/generated/sklearn.preprocessing.StandardScaler.html?highlight=standardscaler#sklearn.preprocessing.StandardScaler) performs feature scaling by standardisation.\n",
        "\n",
        "`OneHotEncoder()` and `StandardScaler()` are part of the scikit-learn [preprocessing module](https://scikit-learn.org/stable/modules/classes.html#module-sklearn.preprocessing).\n",
        "\n",
        "### Question 6\n",
        "\n",
        "Explore the scikit-learn [preprocessing module](https://scikit-learn.org/stable/modules/classes.html#module-sklearn.preprocessing). List and explain two of the utilities availaible that you believe are useful for data analysis."
      ]
    },
    {
      "cell_type": "markdown",
      "metadata": {
        "id": "Y1ttodad5-Xo"
      },
      "source": [
        "*Provide your answer here*"
      ]
    },
    {
      "cell_type": "markdown",
      "metadata": {
        "id": "Ks-NH1j45-Xo"
      },
      "source": [
        "`OneHotEncoder()` and `StandardScaler()` are examples of [data transformations](https://scikit-learn.org/stable/data_transforms.html). In scikit-learn these are referred to as *transformers* and they map the data from one format to another. In a programming context, transformers are classes. They come with the following methods:\n",
        "\n",
        "- `fit` that is used to learn the  transformation from data.\n",
        "- `transform` that is used to transform the data once the transformer has been fitted.   \n",
        "- `fit_transform` that applies first `fit` and then `transform` to the data.\n",
        "\n",
        "Typically, we use either `fit` or `fit_transform` for the training data and `transform` for the validation or test data.\n",
        "\n",
        "Since the one-hot-encoding and standardisation transformations will be applied to different columns in the dataset, it is convenient to have a function that applies them both. It is particularly useful since we need to apply those transformations to the train, validation and test sets. We could code such function from scratch, but here, we make use of the [ColumnTransformer()](https://scikit-learn.org/stable/modules/generated/sklearn.compose.ColumnTransformer.html?highlight=columntransformer#sklearn.compose.ColumnTransformer), an estimator available in scikit-learn that allows to group different transformations into a single method. `ColumnTransformer` is an example of an *estimator* in scikit-learn. An estimator is an object that provides predictions for new data. Besides the `fit`, `transform` and `fit_transform` methods, they most of the times provide the additional `predict` method for making predictions on the test data.\n",
        "\n",
        "### Question 7\n",
        "\n",
        "A [pipeline](https://scikit-learn.org/stable/modules/compose.html#pipeline) is a very convenient estimator in scikit-learn. Explain what is a pipeline and describe in which situations it is useful."
      ]
    },
    {
      "cell_type": "markdown",
      "metadata": {
        "id": "lDqRzSeG5-Xo"
      },
      "source": [
        "*Provide your answer here*"
      ]
    },
    {
      "cell_type": "markdown",
      "metadata": {
        "id": "gwflFSRs5-Xo"
      },
      "source": [
        "Let us go back to the dataset and apply the transformations we mentioned before. We first define lists with the names of the attributes, a list for the categorical attributes and a list for the numerical attributes"
      ]
    },
    {
      "cell_type": "code",
      "execution_count": null,
      "metadata": {
        "id": "LP6zBGk75-Xo"
      },
      "outputs": [],
      "source": [
        "attributes_cat = ['Seasons', 'Holiday', 'Functioning Day']\n",
        "attributes_num = ['Hour', 'Temperature(°C)', 'Humidity(%)', 'Wind speed (m/s)', 'Visibility (10m)', \\\n",
        "                  'Dew point temperature(°C)', 'Solar Radiation (MJ/m2)', 'Rainfall(mm)', 'Snowfall (cm)']"
      ]
    },
    {
      "cell_type": "markdown",
      "metadata": {
        "id": "s9KxwQOm5-Xo"
      },
      "source": [
        "We now import `OneHotEncoder`, `StandardScaler` and `ColumnTransformer` and create the actual transformer"
      ]
    },
    {
      "cell_type": "code",
      "execution_count": null,
      "metadata": {
        "id": "yhIZMH925-Xo"
      },
      "outputs": [],
      "source": [
        "from sklearn.preprocessing import OneHotEncoder\n",
        "from sklearn.preprocessing import StandardScaler\n",
        "from sklearn.compose import ColumnTransformer\n",
        "\n",
        "full_transform = ColumnTransformer([\n",
        "    (\"num\", StandardScaler(), attributes_num),\n",
        "    (\"cat\", OneHotEncoder(), attributes_cat),\n",
        "])"
      ]
    },
    {
      "cell_type": "markdown",
      "metadata": {
        "id": "XVbB2oLR5-Xo"
      },
      "source": [
        "Before applying the full transformation, we separate the target feature from the attributes"
      ]
    },
    {
      "cell_type": "code",
      "execution_count": null,
      "metadata": {
        "id": "DB87QVe85-Xo"
      },
      "outputs": [],
      "source": [
        "bs_train_set_attributes = bs_train_set.drop('Rented Bike Count', axis=1)\n",
        "bs_train_set_labels = bs_train_set['Rented Bike Count']"
      ]
    },
    {
      "cell_type": "markdown",
      "metadata": {
        "id": "DGw7631X5-Xo"
      },
      "source": [
        "We can now apply the fit and apply the full transformation to the training data using `fit_transform`"
      ]
    },
    {
      "cell_type": "code",
      "execution_count": null,
      "metadata": {
        "id": "lrUUVaBa5-Xo"
      },
      "outputs": [],
      "source": [
        "bs_train_set_attributes_prepared = full_transform.fit_transform(bs_train_set_attributes)"
      ]
    },
    {
      "cell_type": "markdown",
      "metadata": {
        "id": "As5AyEkG5-Xo"
      },
      "source": [
        "### Short-list models and fine-tune them\n",
        "\n",
        "Up until this point, we have managed to prepare the data so that it can be used for fitting a predictive model. Scikit-learn includes routines for [several different predictive models for regression and for classification](https://scikit-learn.org/stable/supervised_learning.html#supervised-learning). The application of these methods follows a similar template to the point that applying a method intead of other is just a matter of changing the name of the method.\n",
        "\n",
        "In this notebook, we will focus on Linear Regression but in a larger ML project, you will be encouraged to try different predictive models, e.g. from those available in scikit-learn, and short-list two to three that look promising.  \n",
        "\n",
        "We import the [LinearRegression()](https://scikit-learn.org/stable/modules/generated/sklearn.linear_model.LinearRegression.html?highlight=linearregression#sklearn.linear_model.LinearRegression) method and fit it to the training data."
      ]
    },
    {
      "cell_type": "code",
      "execution_count": null,
      "metadata": {
        "id": "XB2bSbXd5-Xo"
      },
      "outputs": [],
      "source": [
        "from sklearn.linear_model import LinearRegression\n",
        "lin_reg = LinearRegression()\n",
        "lin_reg.fit(bs_train_set_attributes_prepared, bs_train_set_labels)"
      ]
    },
    {
      "cell_type": "markdown",
      "metadata": {
        "id": "Wqu_YRvf5-Xo"
      },
      "source": [
        "And that's it! We have fit the ML model. What's next? Well, by now, one may feel tempted to apply the model to the test data to see how it performs. However, one should only do this when being absolutely sure that this is the best performing model on a *validation set*.\n",
        "\n",
        "We have not used a validation set up until this point because we have not needed to compare between two alternative models. To see how to fine-tune the model, *let us use a validation set to decide whether including the features Rainfall and Snowfall has any benefits*\n",
        "\n",
        "#### Fine-tuning the model\n",
        "\n",
        "We take the original train set and split it again into a train set and a validation set. Due to the size of the dataset, we use a simple way for validating the model known as *holdout validation*, for which we hold out a single set of data for validation purposes. When the dataset is smaller, you can perform k-fold cross-validation or if the data is really small, leave-one-out cross validation. Both are implemented in scikit-learn ([k-fold cross validation](https://scikit-learn.org/stable/modules/generated/sklearn.model_selection.KFold.html#sklearn.model_selection.KFold) and [leave-one-out cross validation](https://scikit-learn.org/stable/modules/generated/sklearn.model_selection.LeaveOneOut.html?highlight=leave%20one%20out#sklearn.model_selection.LeaveOneOut).)\n",
        "\n",
        "From the original train set, we used 85% for the train set and 15% for the validation set. We could have split the dataset from the beginning into a train set, a validation set and a test set using 70%, 15% and 15% of the available data, respectively."
      ]
    },
    {
      "cell_type": "code",
      "execution_count": null,
      "metadata": {
        "id": "xPMNeHb05-Xo"
      },
      "outputs": [],
      "source": [
        "bs_train2_set, bs_val_set = train_test_split(bs_train_set, test_size=0.15, random_state=42)\n",
        "bs_train2_set_attributes = bs_train2_set.drop('Rented Bike Count', axis=1)\n",
        "bs_train2_set_labels = bs_train2_set['Rented Bike Count']\n",
        "bs_val_set_attributes = bs_val_set.drop('Rented Bike Count', axis=1)\n",
        "bs_val_set_labels = bs_val_set['Rented Bike Count']"
      ]
    },
    {
      "cell_type": "markdown",
      "metadata": {
        "id": "umFbF2B35-Xo"
      },
      "source": [
        "We will be comparing between two transformations, the one we already described with `full_transform` and one that looks similar except from not including Rainfall and Snowfall."
      ]
    },
    {
      "cell_type": "code",
      "execution_count": null,
      "metadata": {
        "id": "G-j-1T9y5-Xo"
      },
      "outputs": [],
      "source": [
        "attributes_num_partial = ['Hour', 'Temperature(°C)', 'Humidity(%)', 'Wind speed (m/s)', 'Visibility (10m)', \\\n",
        "                  'Dew point temperature(°C)', 'Solar Radiation (MJ/m2)']\n",
        "partial_transform = ColumnTransformer([\n",
        "    (\"num\", StandardScaler(), attributes_num_partial),\n",
        "    (\"cat\", OneHotEncoder(), attributes_cat),\n",
        "])"
      ]
    },
    {
      "cell_type": "markdown",
      "metadata": {
        "id": "vQzr-_U35-Xo"
      },
      "source": [
        "We now use this new transformation to fit_transform the new train set"
      ]
    },
    {
      "cell_type": "code",
      "execution_count": null,
      "metadata": {
        "id": "dA0b0Lff5-Xo"
      },
      "outputs": [],
      "source": [
        "bs_train2_set_no_RS_attributes = partial_transform.fit_transform(bs_train2_set_attributes)"
      ]
    },
    {
      "cell_type": "markdown",
      "metadata": {
        "id": "11amdKyA5-Xo"
      },
      "source": [
        "We now train the linear regression model that only uses the partial transformed attributes"
      ]
    },
    {
      "cell_type": "code",
      "execution_count": null,
      "metadata": {
        "id": "dDhv3Wwl5-Xo"
      },
      "outputs": [],
      "source": [
        "lin_reg_mod = LinearRegression()\n",
        "lin_reg_mod.fit(bs_train2_set_no_RS_attributes, bs_train2_set_labels)"
      ]
    },
    {
      "cell_type": "markdown",
      "metadata": {
        "id": "KyXfcczR5-Xo"
      },
      "source": [
        "Let us now assess the performance of this model over the validation data. We first need to prepare the validation input data."
      ]
    },
    {
      "cell_type": "code",
      "execution_count": null,
      "metadata": {
        "id": "teamiTlx5-Xo"
      },
      "outputs": [],
      "source": [
        "bs_val_set_no_RS_attributes = partial_transform.transform(bs_val_set_attributes)"
      ]
    },
    {
      "cell_type": "markdown",
      "metadata": {
        "id": "AaLhRz3u5-Xo"
      },
      "source": [
        "We now compute the predictions made by the linear model"
      ]
    },
    {
      "cell_type": "code",
      "execution_count": null,
      "metadata": {
        "id": "5pkWHS8u5-Xo"
      },
      "outputs": [],
      "source": [
        "bs_val_set_predictions_mod = lin_reg_mod.predict(bs_val_set_no_RS_attributes)"
      ]
    },
    {
      "cell_type": "markdown",
      "metadata": {
        "id": "RooXGFzr5-Xp"
      },
      "source": [
        "We can now compute the RMSE obtained with this predictive model. We can use the [scikit-learn routine for computing the mean squared error](https://scikit-learn.org/stable/modules/generated/sklearn.metrics.mean_squared_error.html#sklearn.metrics.mean_squared_error) and then compute the square root."
      ]
    },
    {
      "cell_type": "code",
      "execution_count": null,
      "metadata": {
        "id": "Hu-h-Y0r5-Xp"
      },
      "outputs": [],
      "source": [
        "from sklearn.metrics import mean_squared_error\n",
        "import numpy as np\n",
        "error_mod = np.sqrt(mean_squared_error(bs_val_set_labels, bs_val_set_predictions_mod))\n",
        "error_mod"
      ]
    },
    {
      "cell_type": "markdown",
      "metadata": {
        "id": "n-MdylkN5-Xp"
      },
      "source": [
        "Let us now look into using all the numerical attributes. The train set has changed, so we need to fit_transform a new full transformer."
      ]
    },
    {
      "cell_type": "code",
      "execution_count": null,
      "metadata": {
        "id": "ubL4gx7g5-Xp"
      },
      "outputs": [],
      "source": [
        "bs_train2_set_all_attributes = full_transform.fit_transform(bs_train2_set_attributes)"
      ]
    },
    {
      "cell_type": "markdown",
      "metadata": {
        "id": "ebNLOHaZ5-Xp"
      },
      "source": [
        "We creat the new linear regression model"
      ]
    },
    {
      "cell_type": "code",
      "execution_count": null,
      "metadata": {
        "scrolled": true,
        "id": "xONn43G85-Xp"
      },
      "outputs": [],
      "source": [
        "lin_reg = LinearRegression()\n",
        "lin_reg.fit(bs_train2_set_all_attributes, bs_train2_set_labels)"
      ]
    },
    {
      "cell_type": "markdown",
      "metadata": {
        "id": "EzQAWb0E5-Xp"
      },
      "source": [
        "Transform the validation data"
      ]
    },
    {
      "cell_type": "code",
      "execution_count": null,
      "metadata": {
        "id": "Om98ISeZ5-Xp"
      },
      "outputs": [],
      "source": [
        "bs_val_set_all_attributes = full_transform.transform(bs_val_set_attributes)"
      ]
    },
    {
      "cell_type": "markdown",
      "metadata": {
        "id": "FNsJkS5W5-Xp"
      },
      "source": [
        "We finally perform the prediction"
      ]
    },
    {
      "cell_type": "code",
      "execution_count": null,
      "metadata": {
        "id": "7fDvnquW5-Xp"
      },
      "outputs": [],
      "source": [
        "bs_val_set_predictions = lin_reg.predict(bs_val_set_all_attributes)\n",
        "error = np.sqrt(mean_squared_error(bs_val_set_labels, bs_val_set_predictions))\n",
        "error"
      ]
    },
    {
      "cell_type": "markdown",
      "metadata": {
        "id": "9Uh_NSw35-Xp"
      },
      "source": [
        "We conclude from this that the variables Rainfall and Snowfall actually help to slightly improve the predictions.\n",
        "\n",
        "### Question 8\n",
        "\n",
        "Perhaps other transformations to the dataset can help to improve the predictions. Try the following transformations and see whether the RMSE over the validation set reduces even more:\n",
        "\n",
        "1. Before standardising the feature Wind speed, first transform it using $\\sqrt{x}$.\n",
        "2. Transform the Rainfall and the Snowfall to discrete features using the scikit-learn utility [KBinsDiscretizer](https://scikit-learn.org/stable/modules/generated/sklearn.preprocessing.KBinsDiscretizer.html#sklearn.preprocessing.KBinsDiscretizer) with $K=5$.\n",
        "3. Instead of doing standardisation over the other numerical features, use normalisation.\n",
        "4. Keep the one-hot-encoding for the categorical features."
      ]
    },
    {
      "cell_type": "code",
      "execution_count": null,
      "metadata": {
        "id": "zec9EAvD5-Xp"
      },
      "outputs": [],
      "source": [
        "# Provide your answer bere"
      ]
    },
    {
      "cell_type": "markdown",
      "metadata": {
        "id": "cjSf5k8k5-Xp"
      },
      "source": [
        "Between chosing to include Rainfall and Snowfall or not, the stage of validation tells us we should include them. If this was the only hyperparameter to choose from, we would be done and we could proceed to compute the generalisation error on the test set. Since we are not considering more fine-tuning at the moment, let us compute the RMSE over the test set. We have already prepared the whole training data (what we called train2+val) before using the full transform, we called it `bs_train_set_attributes_prepared`"
      ]
    },
    {
      "cell_type": "code",
      "execution_count": null,
      "metadata": {
        "id": "HbsXgXA35-Xp"
      },
      "outputs": [],
      "source": [
        "lin_reg = LinearRegression()\n",
        "lin_reg.fit(bs_train_set_attributes_prepared, bs_train_set_labels)"
      ]
    },
    {
      "cell_type": "markdown",
      "metadata": {
        "id": "2fsqeMhQ5-Xp"
      },
      "source": [
        "Let us transform the test data so that we can apply the fitted model correctly"
      ]
    },
    {
      "cell_type": "code",
      "execution_count": null,
      "metadata": {
        "id": "eDtUI1w-5-Xp"
      },
      "outputs": [],
      "source": [
        "bs_test_set_attributes = bs_test_set.drop('Rented Bike Count', axis=1)\n",
        "bs_test_set_labels = bs_test_set['Rented Bike Count']"
      ]
    },
    {
      "cell_type": "markdown",
      "metadata": {
        "id": "L4jYAj6L5-Xp"
      },
      "source": [
        "We now transform the attributes in the test set"
      ]
    },
    {
      "cell_type": "code",
      "execution_count": null,
      "metadata": {
        "id": "DsAb4CEx5-Xp"
      },
      "outputs": [],
      "source": [
        "bs_test_set_attributes_prepared = full_transform.transform(bs_test_set_attributes)"
      ]
    },
    {
      "cell_type": "markdown",
      "metadata": {
        "id": "G9zq_Tah5-Xp"
      },
      "source": [
        "We perform the prediction"
      ]
    },
    {
      "cell_type": "code",
      "execution_count": null,
      "metadata": {
        "id": "180JXAm25-Xp"
      },
      "outputs": [],
      "source": [
        "bs_test_set_predictions = lin_reg.predict(bs_test_set_attributes_prepared)"
      ]
    },
    {
      "cell_type": "markdown",
      "metadata": {
        "id": "IiUi1usW5-Xp"
      },
      "source": [
        "And compute the RMSE"
      ]
    },
    {
      "cell_type": "code",
      "execution_count": null,
      "metadata": {
        "id": "v8qIGt-45-Xp"
      },
      "outputs": [],
      "source": [
        "error_test = np.sqrt(mean_squared_error(bs_test_set_labels, bs_test_set_predictions))\n",
        "error_test"
      ]
    },
    {
      "cell_type": "markdown",
      "metadata": {
        "id": "T3LtZLFK5-Xp"
      },
      "source": [
        "The performance in the test set is slightly worse when compared to the performance in the validation set."
      ]
    }
  ],
  "metadata": {
    "kernelspec": {
      "display_name": "Python 3 (ipykernel)",
      "language": "python",
      "name": "python3"
    },
    "language_info": {
      "codemirror_mode": {
        "name": "ipython",
        "version": 3
      },
      "file_extension": ".py",
      "mimetype": "text/x-python",
      "name": "python",
      "nbconvert_exporter": "python",
      "pygments_lexer": "ipython3",
      "version": "3.10.9"
    },
    "colab": {
      "provenance": []
    }
  },
  "nbformat": 4,
  "nbformat_minor": 0
}